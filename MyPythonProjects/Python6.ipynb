{
  "cells": [
    {
      "cell_type": "markdown",
      "metadata": {
        "id": "EVbqAmZF1ckK"
      },
      "source": [
        "# Самостоятельная работа (Файлы. Исключения)"
      ]
    },
    {
      "cell_type": "markdown",
      "metadata": {
        "id": "iQhhkJb8yk0e"
      },
      "source": [
        "## Задача 1"
      ]
    },
    {
      "cell_type": "markdown",
      "metadata": {
        "id": "4CntGw70y0cl"
      },
      "source": [
        "Напишите функцию, которая параметром будет принимать путь к папке, а возвращать размер этой папки."
      ]
    },
    {
      "cell_type": "code",
      "execution_count": 3,
      "metadata": {
        "id": "xDr0YsR_0kNP"
      },
      "outputs": [
        {
          "name": "stdout",
          "output_type": "stream",
          "text": [
            "918\n"
          ]
        }
      ],
      "source": [
        "# ваш код в этой ячейке\n",
        "def size_folder(folder):\n",
        "    size = 0\n",
        "    for dirpath, dirnames, filenames in os.walk(folder):\n",
        "        for f in filenames:\n",
        "            fp = os.path.join(dirpath, f)\n",
        "            size += os.path.getsize(fp)\n",
        "    return size \n",
        "\n",
        "import os\n",
        "\n",
        "folder = \"tmp\"\n",
        "path = os.path.join(folder)\n",
        "print(size_folder(path))"
      ]
    },
    {
      "cell_type": "markdown",
      "metadata": {
        "id": "o9mJvlCwDu95"
      },
      "source": [
        "## Задача 2"
      ]
    },
    {
      "cell_type": "markdown",
      "metadata": {
        "id": "o6pubICoDu97"
      },
      "source": [
        "Дан текстовый файл. В нем написан текст, разбитый на предложения. Перемешайте слова в каждом предложении текста и запишите полученный текст в новый файл."
      ]
    },
    {
      "cell_type": "code",
      "execution_count": 18,
      "metadata": {
        "id": "sTia6dWRDu98"
      },
      "outputs": [],
      "source": [
        "# ваш код в этой ячейке\n",
        "import os\n",
        "import random\n",
        "\n",
        "folder = \"tmp\"\n",
        "filename=\"1.txt\"\n",
        "path = os.path.join(folder,filename)\n",
        "finaltext = \"\"\n",
        "\n",
        "with open(path, encoding=\"utf-8\") as f:\n",
        "    for line in f:\n",
        "        tmparr = line.rstrip().split(' ')\n",
        "        for tmp in range(10):\n",
        "            i = random.randint(0, len(tmparr) - 1)\n",
        "            while True:\n",
        "                j = random.randint(0, len(tmparr) - 1)\n",
        "                if not i == j:\n",
        "                    break\n",
        "            tmparr[i], tmparr[j] = tmparr[j], tmparr[i]\n",
        "        tmpstr = ' '.join(tmparr)\n",
        "        finaltext += tmpstr + '\\n'\n",
        "\n",
        "filename2 = \"1_2.txt\"\n",
        "path = os.path.join(folder, filename2)\n",
        "\n",
        "os.makedirs(folder, exist_ok=True)\n",
        "\n",
        "with open(path, \"w\", encoding=\"utf=8\") as f:\n",
        "    f.write(finaltext)\n",
        "        "
      ]
    },
    {
      "cell_type": "markdown",
      "metadata": {
        "id": "C9WsT9NCD70u"
      },
      "source": [
        "## Задача 3"
      ]
    },
    {
      "cell_type": "markdown",
      "metadata": {
        "id": "FyOsLkCPD71R"
      },
      "source": [
        "В файле расположен русский текст. Откройте этот файл, преобразуйте текст в транслит и запишите в новый файл."
      ]
    },
    {
      "cell_type": "code",
      "execution_count": 44,
      "metadata": {
        "id": "d5qjX7quD71S"
      },
      "outputs": [],
      "source": [
        "dict = {'а':'a','б':'b','в':'v','г':'g','д':'d','е':'e','ё':'e',\n",
        "      'ж':'zh','з':'z','и':'i','й':'i','к':'k','л':'l','м':'m','н':'n',\n",
        "      'о':'o','п':'p','р':'r','с':'s','т':'t','у':'u','ф':'f','х':'h',\n",
        "      'ц':'c','ч':'cz','ш':'sh','щ':'scz','ъ':'','ы':'y','ь':'','э':'e',\n",
        "      'ю':'u','я':'ja', 'А':'A','Б':'B','В':'V','Г':'G','Д':'D','Е':'E','Ё':'E',\n",
        "      'Ж':'ZH','З':'Z','И':'I','Й':'I','К':'K','Л':'L','М':'M','Н':'N',\n",
        "      'О':'O','П':'P','Р':'R','С':'S','Т':'T','У':'U','Ф':'F','Х':'H',\n",
        "      'Ц':'C','Ч':'CZ','Ш':'SH','Щ':'SCH','Ъ':'','Ы':'y','Ь':'','Э':'E',\n",
        "      'Ю':'U','Я':'YA',',':'','?':'',' ':'_','~':'','!':'','@':'','#':'',\n",
        "      '$':'','%':'','^':'','&':'','*':'','(':'',')':'','-':'','=':'','+':'',\n",
        "      ':':'',';':'','<':'','>':'','\\'':'','\"':'','\\\\':'','/':'','№':'',\n",
        "      '[':'',']':'','{':'','}':'','ґ':'','ї':'', 'є':'','Ґ':'g','Ї':'i',\n",
        "      'Є':'e', '—':''}\n",
        "\n",
        "import os\n",
        "\n",
        "folder = \"tmp\"\n",
        "filename=\"1.txt\"\n",
        "path = os.path.join(folder,filename)\n",
        "finaltext = \"\"\n",
        "\n",
        "with open(path, encoding=\"utf-8\") as f:\n",
        "    for line in f:\n",
        "        tmparr = line.rstrip().split(' ')\n",
        "        tmparr2 = []\n",
        "        for word in tmparr:\n",
        "            new_word = ''\n",
        "            for i in word:\n",
        "                if(i in dict):\n",
        "                    new_word = word.replace(i, dict[i])\n",
        "                word = new_word\n",
        "            tmparr2.append(word) \n",
        "        tmpstr = ' '.join(tmparr2)\n",
        "        finaltext += tmpstr + '\\n'\n",
        "\n",
        "filename2 = \"1_3.txt\"\n",
        "path = os.path.join(folder, filename2)\n",
        "\n",
        "os.makedirs(folder, exist_ok=True)\n",
        "\n",
        "with open(path, \"w\", encoding=\"utf=8\") as f:\n",
        "    f.write(finaltext)"
      ]
    },
    {
      "cell_type": "markdown",
      "metadata": {
        "id": "jLz9Lw-7ERLJ"
      },
      "source": [
        "## Задача 4"
      ]
    },
    {
      "cell_type": "markdown",
      "metadata": {
        "id": "eo56U11xERLL"
      },
      "source": [
        "Дан текстовый файл. Получите количество букв в нем (пробелы, знаки препинания и специальные символы не учитываются)."
      ]
    },
    {
      "cell_type": "code",
      "execution_count": 49,
      "metadata": {
        "id": "eyMVLE5rERLL"
      },
      "outputs": [
        {
          "name": "stdout",
          "output_type": "stream",
          "text": [
            "101\n"
          ]
        }
      ],
      "source": [
        "# ваш код в этой ячейке\n",
        "import os\n",
        "from string import ascii_letters\n",
        "\n",
        "folder = \"tmp\"\n",
        "filename=\"1.txt\"\n",
        "path = os.path.join(folder,filename)\n",
        "ru_symbols = 'абвгдеёжзийклмнопрстуфхцчшщъыьэюя'\n",
        "result = 0\n",
        "\n",
        "with open(path, encoding=\"utf-8\") as f:\n",
        "    for line in f:\n",
        "        line = line.lower()\n",
        "        for i in range(len(line)):\n",
        "            if line[i] in ru_symbols or line[i] in ascii_letters:\n",
        "                result += 1\n",
        "\n",
        "print(result)"
      ]
    },
    {
      "cell_type": "markdown",
      "metadata": {
        "id": "m4628ffNE0ha"
      },
      "source": [
        "## Задача 5"
      ]
    },
    {
      "cell_type": "markdown",
      "metadata": {
        "id": "372hLl8-E0hb"
      },
      "source": [
        "Дан текстовый файл. Получите количество букв в нем (пробелы, знаки препинания и специальные символы не учитываются)."
      ]
    },
    {
      "cell_type": "code",
      "execution_count": 50,
      "metadata": {
        "id": "cQOLrXzAE0hc"
      },
      "outputs": [
        {
          "name": "stdout",
          "output_type": "stream",
          "text": [
            "101\n"
          ]
        }
      ],
      "source": [
        "# ваш код в этой ячейке\n",
        "import os\n",
        "from string import ascii_letters\n",
        "\n",
        "folder = \"tmp\"\n",
        "filename=\"1.txt\"\n",
        "path = os.path.join(folder,filename)\n",
        "ru_symbols = 'абвгдеёжзийклмнопрстуфхцчшщъыьэюя'\n",
        "result = 0\n",
        "\n",
        "with open(path, encoding=\"utf-8\") as f:\n",
        "    for line in f:\n",
        "        line = line.lower()\n",
        "        for i in range(len(line)):\n",
        "            if line[i] in ru_symbols or line[i] in ascii_letters:\n",
        "                result += 1\n",
        "\n",
        "print(result)"
      ]
    },
    {
      "cell_type": "markdown",
      "metadata": {
        "id": "J7eqhUv5JLfO"
      },
      "source": [
        "## Задача 6"
      ]
    },
    {
      "cell_type": "markdown",
      "metadata": {
        "id": "hDfw4rf3JLf1"
      },
      "source": [
        "Напишите программу, которая запрашивает у пользователя два значения. Если хотя бы одно из них не является числом, то программа будет соединять их в одну строку. В остальных случаях, если оба значения являются числами, программа будет суммировать их.\n",
        "\n",
        "Примеры выполнения программы:\n",
        "```\n",
        "Первое значение: 10\n",
        "Второе значение: 50\n",
        "Результат: 60\n",
        "```\n",
        "\n",
        "```\n",
        "Первое значение: hello\n",
        "Второе значение: world\n",
        "Результат: helloworld\n",
        "```\n",
        "\n",
        "\n",
        "\n",
        "\n"
      ]
    },
    {
      "cell_type": "code",
      "execution_count": 60,
      "metadata": {
        "id": "Y7Fhz2upJLf2"
      },
      "outputs": [
        {
          "name": "stdout",
          "output_type": "stream",
          "text": [
            "Первое значение: he\n",
            "Первое значение: 23\n",
            "Результат: he23\n"
          ]
        }
      ],
      "source": [
        "first_thing = input(\"Введите первое значение: \")\n",
        "second_thing = input(\"Введите второе значение: \")\n",
        "\n",
        "try:\n",
        "    first_thing = int(first_thing)\n",
        "    second_thing = int(second_thing)\n",
        "    print(f\"Первое значение: {first_thing}\")\n",
        "    print(f\"Первое значение: {second_thing}\")\n",
        "    print(f\"Результат: {first_thing + second_thing}\")\n",
        "except ValueError:\n",
        "    print(f\"Первое значение: {first_thing}\")\n",
        "    print(f\"Первое значение: {second_thing}\")\n",
        "    print(f\"Результат: {first_thing + second_thing}\")\n",
        "    "
      ]
    },
    {
      "cell_type": "code",
      "execution_count": null,
      "metadata": {},
      "outputs": [],
      "source": []
    }
  ],
  "metadata": {
    "colab": {
      "provenance": []
    },
    "kernelspec": {
      "display_name": "Python 3",
      "name": "python3"
    },
    "language_info": {
      "codemirror_mode": {
        "name": "ipython",
        "version": 3
      },
      "file_extension": ".py",
      "mimetype": "text/x-python",
      "name": "python",
      "nbconvert_exporter": "python",
      "pygments_lexer": "ipython3",
      "version": "3.12.2"
    }
  },
  "nbformat": 4,
  "nbformat_minor": 0
}
